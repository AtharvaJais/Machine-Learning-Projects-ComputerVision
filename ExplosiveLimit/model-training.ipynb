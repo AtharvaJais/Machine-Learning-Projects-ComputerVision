{
 "cells": [
  {
   "cell_type": "code",
   "execution_count": null,
   "id": "45855f1c",
   "metadata": {},
   "outputs": [],
   "source": [
    "import os\n",
    "import cv2\n",
    "import numpy as np\n",
    "import tensorflow as tf\n",
    "import tensorflow.keras.backend as K\n",
    "from sklearn.model_selection import train_test_split\n",
    "from tensorflow.keras.applications import mobilenet_v2\n",
    "from tensorflow.keras.models import Sequential, load_model\n",
    "from tensorflow.keras.applications.resnet50 import ResNet50\n",
    "from tensorflow.keras.layers import Dense, GlobalAveragePooling2D, Flatten\n",
    "print(\"Imported Successfully\")\n",
    "\n",
    "# Load the image data\n",
    "train_images = []\n",
    "train_labels = []\n",
    "input_dir = '/kaggle/input/test-train-data/test_train_data'\n",
    "for image_file in os.listdir(input_dir):\n",
    "    image = cv2.imread(os.path.join(input_dir, image_file))\n",
    "    image = cv2.cvtColor(image, cv2.COLOR_BGR2GRAY)\n",
    "    image = cv2.resize(image, (64, 64))\n",
    "    image = np.stack([image, image, image], axis=2)\n",
    "    train_images.append(image)\n",
    "    train_labels.append(int(image_file.split('_')[1].split('.')[0]))\n",
    "print(\"Loaded Successfully\")\n",
    "\n",
    "# Preprocess the image data\n",
    "train_images = np.array(train_images, dtype=object)\n",
    "train_images = train_images / 255.0\n",
    "train_labels = np.array(train_labels)\n",
    "train_images = np.array(train_images, dtype=np.float32)\n",
    "val_split = 0.2\n",
    "train_images, val_images, train_labels, val_labels = train_test_split(train_images, train_labels, test_size=val_split, random_state=42)\n",
    "num_classes = 60000\n",
    "print(\"Success\")\n",
    "\n",
    "# Build the CNN model\n",
    "model = Sequential()\n",
    "resnet50 = ResNet50(weights='imagenet', include_top=False, input_shape=(64, 64, 3))\n",
    "model.add(resnet50)\n",
    "model.add(Flatten())\n",
    "model.add(Dense(num_classes, activation='sigmoid'))\n",
    "print(model, \"\\nModel Built\")\n",
    "\n",
    "# Define a custom loss function to handle labels outside the valid range\n",
    "# def custom_loss(y_true, y_pred):\n",
    "#     invalid_labels = K.cast(K.greater_equal(y_true, 49), dtype=K.floatx()\n",
    "#     loss = K.sparse_categorical_crossentropy(y_true, y_pred) * (1 - invalid_labels)\n",
    "#     return loss\n",
    "\n",
    "# Compile the model\n",
    "model.compile(loss='sparse_categorical_crossentropy', optimizer='adam', metrics=['accuracy'])\n",
    "print(model, \"\\nModel Compiled\")"
   ]
  },
  {
   "cell_type": "code",
   "execution_count": null,
   "id": "2d1fef6a",
   "metadata": {},
   "outputs": [],
   "source": [
    "# Train the model\n",
    "model.fit(train_images, train_labels, epochs=100, validation_data=(val_images, val_labels))\n",
    "model.save('trained_model_10k.h5')"
   ]
  }
 ],
 "metadata": {
  "kernelspec": {
   "display_name": "Python 3",
   "language": "python",
   "name": "python3"
  },
  "language_info": {
   "codemirror_mode": {
    "name": "ipython",
    "version": 3
   },
   "file_extension": ".py",
   "mimetype": "text/x-python",
   "name": "python",
   "nbconvert_exporter": "python",
   "pygments_lexer": "ipython3",
   "version": "3.8.10"
  },
  "papermill": {
   "default_parameters": {},
   "duration": 367.335792,
   "end_time": "2023-10-05T23:48:29.100016",
   "environment_variables": {},
   "exception": null,
   "input_path": "__notebook__.ipynb",
   "output_path": "__notebook__.ipynb",
   "parameters": {},
   "start_time": "2023-10-05T23:42:21.764224",
   "version": "2.4.0"
  }
 },
 "nbformat": 4,
 "nbformat_minor": 5
}
