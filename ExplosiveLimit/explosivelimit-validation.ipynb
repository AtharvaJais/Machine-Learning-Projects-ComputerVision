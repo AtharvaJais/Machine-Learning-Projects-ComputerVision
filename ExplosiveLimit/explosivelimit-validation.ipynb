{
 "cells": [
  {
   "cell_type": "code",
   "execution_count": 1,
   "id": "30233dd0",
   "metadata": {
    "execution": {
     "iopub.execute_input": "2023-10-10T12:26:51.902170Z",
     "iopub.status.busy": "2023-10-10T12:26:51.901872Z",
     "iopub.status.idle": "2023-10-10T12:27:45.747012Z",
     "shell.execute_reply": "2023-10-10T12:27:45.745846Z"
    },
    "papermill": {
     "duration": 53.849993,
     "end_time": "2023-10-10T12:27:45.748986",
     "exception": false,
     "start_time": "2023-10-10T12:26:51.898993",
     "status": "completed"
    },
    "tags": []
   },
   "outputs": [
    {
     "name": "stderr",
     "output_type": "stream",
     "text": [
      "/opt/conda/lib/python3.10/site-packages/scipy/__init__.py:146: UserWarning: A NumPy version >=1.16.5 and <1.23.0 is required for this version of SciPy (detected version 1.23.5\n",
      "  warnings.warn(f\"A NumPy version >={np_minversion} and <{np_maxversion}\"\n",
      "Loading /kaggle/input/validation-data1: 100%|██████████| 2968/2968 [00:14<00:00, 206.41it/s]\n"
     ]
    },
    {
     "name": "stdout",
     "output_type": "stream",
     "text": [
      "93/93 [==============================] - 10s 19ms/step - loss: nan - accuracy: 0.3261\n",
      "Validation Accuracy: 32.61%\n"
     ]
    }
   ],
   "source": [
    "import os\n",
    "import cv2\n",
    "import numpy as np\n",
    "from tqdm import tqdm\n",
    "import tensorflow as tf\n",
    "from tensorflow.keras.models import load_model\n",
    "from sklearn.model_selection import train_test_split\n",
    "\n",
    "\n",
    "def load_and_preprocess_images(folder_path):\n",
    "    images = []\n",
    "    labels = []\n",
    "    num_files = len(os.listdir(folder_path))\n",
    "    with tqdm(total=num_files, desc=f\"Loading {folder_path}\") as pbar:\n",
    "        for image_file in os.listdir(folder_path):\n",
    "            image = cv2.imread(os.path.join(folder_path, image_file))\n",
    "            image = cv2.resize(image, (64, 64))\n",
    "            image = image / 255.0\n",
    "            images.append(image)\n",
    "            labels.append(1 if \"positive\" in image_file else 0)\n",
    "            pbar.update(1)\n",
    "    return np.array(images), np.array(labels)\n",
    "\n",
    "model = load_model('/kaggle/input/trained-model/trained_model_5k.h5')\n",
    "validation_path = '/kaggle/input/validation-data1'\n",
    "val_images, val_labels = load_and_preprocess_images(validation_path)\n",
    "loss, accuracy = model.evaluate(val_images, val_labels, verbose=1)\n",
    "print(f\"Validation Accuracy: {accuracy * 100:.2f}%\")"
   ]
  }
 ],
 "metadata": {
  "kernelspec": {
   "display_name": "Python 3",
   "language": "python",
   "name": "python3"
  },
  "language_info": {
   "codemirror_mode": {
    "name": "ipython",
    "version": 3
   },
   "file_extension": ".py",
   "mimetype": "text/x-python",
   "name": "python",
   "nbconvert_exporter": "python",
   "pygments_lexer": "ipython3",
   "version": "3.10.12"
  },
  "papermill": {
   "default_parameters": {},
   "duration": 60.612782,
   "end_time": "2023-10-10T12:27:49.242161",
   "environment_variables": {},
   "exception": null,
   "input_path": "__notebook__.ipynb",
   "output_path": "__notebook__.ipynb",
   "parameters": {},
   "start_time": "2023-10-10T12:26:48.629379",
   "version": "2.4.0"
  }
 },
 "nbformat": 4,
 "nbformat_minor": 5
}
