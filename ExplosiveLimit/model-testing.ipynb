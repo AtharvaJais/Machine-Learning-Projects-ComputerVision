{
 "cells": [
  {
   "cell_type": "code",
   "execution_count": null,
   "id": "d4f40464",
   "metadata": {},
   "outputs": [],
   "source": [
    "import cv2\n",
    "import numpy as np\n",
    "import tensorflow as tf\n",
    "from PIL import Image\n",
    "\n",
    "model = tf.keras.models.load_model('/home/atharva/Documents/ComputerVision/ExplosiveLimit/trained_model/trained_model_5k.h5')\n",
    "cap = cv2.VideoCapture(0)\n",
    "open_images = []"
   ]
  },
  {
   "cell_type": "code",
   "execution_count": null,
   "id": "8a572ee9",
   "metadata": {},
   "outputs": [],
   "source": [
    "while True:\n",
    "    ret, frame = cap.read()\n",
    "    if not ret:\n",
    "        break\n",
    "    if frame.shape[0] == 0 or frame.shape[1] == 0:\n",
    "        break\n",
    "\n",
    "    frame = cv2.resize(frame, (64, 64))\n",
    "    frame = frame / 255.0\n",
    "\n",
    "    prediction = model.predict(frame[np.newaxis, ...])[0]\n",
    "    predicted_class = np.argmax(prediction)\n",
    "    probability = prediction[predicted_class]\n",
    "\n",
    "    if probability > 0.5:\n",
    "        (x, y, w, h) = cv2.boundingRect(frame)\n",
    "        cv2.rectangle(frame, (x, y), (x + w, y + h), (0, 255, 0), 2)\n",
    "\n",
    "    image = Image.fromarray(frame)\n",
    "    image.show()\n",
    "    open_images.append(image)\n",
    "\n",
    "    if cv2.waitKey(1) & 0xFF == ord('q'):\n",
    "        break"
   ]
  },
  {
   "cell_type": "code",
   "execution_count": null,
   "id": "eeb7efe2",
   "metadata": {},
   "outputs": [],
   "source": [
    "for image in open_images:\n",
    "    image.close()\n",
    "cap.release()"
   ]
  },
  {
   "cell_type": "code",
   "execution_count": 48,
   "id": "fea90cac",
   "metadata": {},
   "outputs": [
    {
     "data": {
      "application/vnd.plotly.v1+json": {
       "config": {
        "plotlyServerURL": "https://plot.ly"
       },
       "data": [
        {
         "alignmentgroup": "True",
         "hovertemplate": "variable=%{x}<br>Y-axis=%{y}<extra></extra>",
         "legendgroup": "",
         "marker": {
          "color": "#636efa"
         },
         "name": "",
         "notched": false,
         "offsetgroup": "",
         "orientation": "v",
         "showlegend": false,
         "type": "box",
         "x": [
          "0",
          "0",
          "0",
          "0",
          "0",
          "0",
          "0",
          "0",
          "0",
          "0",
          "0",
          "0",
          "0",
          "0",
          "0",
          "0",
          "0",
          "0",
          "0",
          "0",
          "0",
          "0",
          "0",
          "0",
          "0",
          "0",
          "0",
          "0",
          "0",
          "0",
          "0",
          "0",
          "0",
          "0",
          "0",
          "0",
          "0",
          "0",
          "0",
          "0",
          "0",
          "0",
          "0",
          "0",
          "0",
          "0",
          "0",
          "0",
          "0",
          "0",
          "0",
          "0",
          "0",
          "0",
          "0",
          "0",
          "0",
          "0",
          "0",
          "0",
          "0",
          "0",
          "0",
          "0",
          "0",
          "0",
          "0",
          "0",
          "0",
          "0",
          "0",
          "0",
          "0",
          "0",
          "0",
          "0",
          "0",
          "0",
          "0",
          "0",
          "0",
          "0",
          "0",
          "0",
          "0",
          "0",
          "0",
          "0",
          "0",
          "0",
          "0",
          "0",
          "0",
          "0",
          "0",
          "0",
          "0",
          "0",
          "0",
          "0"
         ],
         "x0": " ",
         "xaxis": "x",
         "y": [
          0.16189469743645948,
          0.0022565425347344944,
          0.10126230463635273,
          -0.47223773993234297,
          0.3900990051258985,
          1.504462065014241,
          -0.7350112949520524,
          -1.2715354980042948,
          0.9111615869119255,
          -0.5811813601651394,
          0.6912430006628982,
          -0.9192823794863374,
          1.4087863228792417,
          -0.5096125391340278,
          0.9660234781620022,
          2.010925587185072,
          0.22474146475448356,
          1.823723013362256,
          -0.3748750626805849,
          0.774114630247072,
          -1.3796613594139024,
          0.10542212599811562,
          -0.7112676316022633,
          -1.0181529755463585,
          0.3564699677249512,
          1.1299854391678483,
          -0.056008448357189336,
          2.1975049003078846,
          -0.8196545353144872,
          -0.5048525046985111,
          0.4466899636283773,
          2.395757294652743,
          0.868114773911431,
          -1.38501218977117,
          -1.23750927217487,
          -0.24138308544099668,
          -1.3507192011824756,
          0.28012007622033225,
          -0.2949678328235216,
          1.4681968496160638,
          1.3254334503842415,
          0.5859497549256532,
          0.18715058752611372,
          0.048431441950331194,
          -1.232267638783537,
          0.5506336516514374,
          1.0652219917971344,
          -1.28891757890399,
          -0.42707308680294925,
          1.4841973774307082,
          1.7453047317262458,
          -0.1800011442127233,
          -1.7425978334588557,
          -0.7147396266623607,
          -1.1597318719696759,
          -0.7853963456141309,
          -0.21418565345797927,
          1.629804745666428,
          -0.1439414120407818,
          -0.5066683444249493,
          -0.27552646539754644,
          -1.1428215843138023,
          -0.3483764146599551,
          1.7746147974436004,
          -0.8802585220764997,
          0.9675378685569123,
          -0.9922127868593061,
          1.2280687809330932,
          -0.40883402445250416,
          -0.5301252093981895,
          -0.2943406310790067,
          -0.34322149253839423,
          1.715517134870802,
          0.40536578594454686,
          -0.4882481399605978,
          0.969612354561123,
          0.16563862717634967,
          -0.8746248504926433,
          0.3081868977894084,
          -0.7109579838687924,
          -1.6310613952969142,
          -0.5565521252481034,
          0.4775166327238373,
          -0.328118772036634,
          0.5515152409534535,
          0.5587064761552514,
          0.6118333424206666,
          -1.2891205258384497,
          0.3030388859824805,
          -0.6314706259646053,
          -1.340741798822962,
          0.18730847734310208,
          -0.6834180150158212,
          0.6326150459464601,
          -0.3707440611562765,
          1.3778529705473739,
          0.741339080564043,
          1.7743164211640758,
          -0.2342903959351277,
          0.29580223869144723
         ],
         "y0": " ",
         "yaxis": "y"
        }
       ],
       "layout": {
        "annotations": [
         {
          "bgcolor": "rgba(0,0,255,0.2)",
          "font": {
           "color": "black"
          },
          "showarrow": false,
          "text": "Max: 2.395757294652743",
          "x": 1,
          "xref": "paper",
          "y": 2.395757294652743,
          "yref": "y"
         },
         {
          "bgcolor": "rgba(0,0,255,0.2)",
          "font": {
           "color": "black"
          },
          "showarrow": false,
          "text": "Upper Fence: 2.7261037614365753",
          "x": 1,
          "xref": "paper",
          "y": 2.895757294652743,
          "yref": "y"
         },
         {
          "bgcolor": "rgba(0,0,255,0.2)",
          "font": {
           "color": "black"
          },
          "showarrow": false,
          "text": "Q3: 0.7037670206381844",
          "x": 1,
          "xref": "paper",
          "y": 3.395757294652743,
          "yref": "y"
         },
         {
          "bgcolor": "rgba(0,0,255,0.2)",
          "font": {
           "color": "black"
          },
          "showarrow": false,
          "text": "Median: -0.02687595291122742",
          "x": 1,
          "xref": "paper",
          "y": 3.895757294652743,
          "yref": "y"
         },
         {
          "bgcolor": "rgba(0,0,255,0.2)",
          "font": {
           "color": "black"
          },
          "showarrow": false,
          "text": "Q1: -0.6444574732274093",
          "x": 1,
          "xref": "paper",
          "y": 4.395757294652743,
          "yref": "y"
         },
         {
          "bgcolor": "rgba(0,0,255,0.2)",
          "font": {
           "color": "black"
          },
          "showarrow": false,
          "text": "Lower Fence: -2.6667942140258",
          "x": 1,
          "xref": "paper",
          "y": 4.895757294652743,
          "yref": "y"
         },
         {
          "bgcolor": "rgba(0,0,255,0.2)",
          "font": {
           "color": "black"
          },
          "showarrow": false,
          "text": "Min: -1.7425978334588557",
          "x": 1,
          "xref": "paper",
          "y": 5.395757294652743,
          "yref": "y"
         }
        ],
        "boxmode": "group",
        "legend": {
         "tracegroupgap": 0
        },
        "template": {
         "data": {
          "bar": [
           {
            "error_x": {
             "color": "#2a3f5f"
            },
            "error_y": {
             "color": "#2a3f5f"
            },
            "marker": {
             "line": {
              "color": "#E5ECF6",
              "width": 0.5
             },
             "pattern": {
              "fillmode": "overlay",
              "size": 10,
              "solidity": 0.2
             }
            },
            "type": "bar"
           }
          ],
          "barpolar": [
           {
            "marker": {
             "line": {
              "color": "#E5ECF6",
              "width": 0.5
             },
             "pattern": {
              "fillmode": "overlay",
              "size": 10,
              "solidity": 0.2
             }
            },
            "type": "barpolar"
           }
          ],
          "carpet": [
           {
            "aaxis": {
             "endlinecolor": "#2a3f5f",
             "gridcolor": "white",
             "linecolor": "white",
             "minorgridcolor": "white",
             "startlinecolor": "#2a3f5f"
            },
            "baxis": {
             "endlinecolor": "#2a3f5f",
             "gridcolor": "white",
             "linecolor": "white",
             "minorgridcolor": "white",
             "startlinecolor": "#2a3f5f"
            },
            "type": "carpet"
           }
          ],
          "choropleth": [
           {
            "colorbar": {
             "outlinewidth": 0,
             "ticks": ""
            },
            "type": "choropleth"
           }
          ],
          "contour": [
           {
            "colorbar": {
             "outlinewidth": 0,
             "ticks": ""
            },
            "colorscale": [
             [
              0,
              "#0d0887"
             ],
             [
              0.1111111111111111,
              "#46039f"
             ],
             [
              0.2222222222222222,
              "#7201a8"
             ],
             [
              0.3333333333333333,
              "#9c179e"
             ],
             [
              0.4444444444444444,
              "#bd3786"
             ],
             [
              0.5555555555555556,
              "#d8576b"
             ],
             [
              0.6666666666666666,
              "#ed7953"
             ],
             [
              0.7777777777777778,
              "#fb9f3a"
             ],
             [
              0.8888888888888888,
              "#fdca26"
             ],
             [
              1,
              "#f0f921"
             ]
            ],
            "type": "contour"
           }
          ],
          "contourcarpet": [
           {
            "colorbar": {
             "outlinewidth": 0,
             "ticks": ""
            },
            "type": "contourcarpet"
           }
          ],
          "heatmap": [
           {
            "colorbar": {
             "outlinewidth": 0,
             "ticks": ""
            },
            "colorscale": [
             [
              0,
              "#0d0887"
             ],
             [
              0.1111111111111111,
              "#46039f"
             ],
             [
              0.2222222222222222,
              "#7201a8"
             ],
             [
              0.3333333333333333,
              "#9c179e"
             ],
             [
              0.4444444444444444,
              "#bd3786"
             ],
             [
              0.5555555555555556,
              "#d8576b"
             ],
             [
              0.6666666666666666,
              "#ed7953"
             ],
             [
              0.7777777777777778,
              "#fb9f3a"
             ],
             [
              0.8888888888888888,
              "#fdca26"
             ],
             [
              1,
              "#f0f921"
             ]
            ],
            "type": "heatmap"
           }
          ],
          "heatmapgl": [
           {
            "colorbar": {
             "outlinewidth": 0,
             "ticks": ""
            },
            "colorscale": [
             [
              0,
              "#0d0887"
             ],
             [
              0.1111111111111111,
              "#46039f"
             ],
             [
              0.2222222222222222,
              "#7201a8"
             ],
             [
              0.3333333333333333,
              "#9c179e"
             ],
             [
              0.4444444444444444,
              "#bd3786"
             ],
             [
              0.5555555555555556,
              "#d8576b"
             ],
             [
              0.6666666666666666,
              "#ed7953"
             ],
             [
              0.7777777777777778,
              "#fb9f3a"
             ],
             [
              0.8888888888888888,
              "#fdca26"
             ],
             [
              1,
              "#f0f921"
             ]
            ],
            "type": "heatmapgl"
           }
          ],
          "histogram": [
           {
            "marker": {
             "pattern": {
              "fillmode": "overlay",
              "size": 10,
              "solidity": 0.2
             }
            },
            "type": "histogram"
           }
          ],
          "histogram2d": [
           {
            "colorbar": {
             "outlinewidth": 0,
             "ticks": ""
            },
            "colorscale": [
             [
              0,
              "#0d0887"
             ],
             [
              0.1111111111111111,
              "#46039f"
             ],
             [
              0.2222222222222222,
              "#7201a8"
             ],
             [
              0.3333333333333333,
              "#9c179e"
             ],
             [
              0.4444444444444444,
              "#bd3786"
             ],
             [
              0.5555555555555556,
              "#d8576b"
             ],
             [
              0.6666666666666666,
              "#ed7953"
             ],
             [
              0.7777777777777778,
              "#fb9f3a"
             ],
             [
              0.8888888888888888,
              "#fdca26"
             ],
             [
              1,
              "#f0f921"
             ]
            ],
            "type": "histogram2d"
           }
          ],
          "histogram2dcontour": [
           {
            "colorbar": {
             "outlinewidth": 0,
             "ticks": ""
            },
            "colorscale": [
             [
              0,
              "#0d0887"
             ],
             [
              0.1111111111111111,
              "#46039f"
             ],
             [
              0.2222222222222222,
              "#7201a8"
             ],
             [
              0.3333333333333333,
              "#9c179e"
             ],
             [
              0.4444444444444444,
              "#bd3786"
             ],
             [
              0.5555555555555556,
              "#d8576b"
             ],
             [
              0.6666666666666666,
              "#ed7953"
             ],
             [
              0.7777777777777778,
              "#fb9f3a"
             ],
             [
              0.8888888888888888,
              "#fdca26"
             ],
             [
              1,
              "#f0f921"
             ]
            ],
            "type": "histogram2dcontour"
           }
          ],
          "mesh3d": [
           {
            "colorbar": {
             "outlinewidth": 0,
             "ticks": ""
            },
            "type": "mesh3d"
           }
          ],
          "parcoords": [
           {
            "line": {
             "colorbar": {
              "outlinewidth": 0,
              "ticks": ""
             }
            },
            "type": "parcoords"
           }
          ],
          "pie": [
           {
            "automargin": true,
            "type": "pie"
           }
          ],
          "scatter": [
           {
            "fillpattern": {
             "fillmode": "overlay",
             "size": 10,
             "solidity": 0.2
            },
            "type": "scatter"
           }
          ],
          "scatter3d": [
           {
            "line": {
             "colorbar": {
              "outlinewidth": 0,
              "ticks": ""
             }
            },
            "marker": {
             "colorbar": {
              "outlinewidth": 0,
              "ticks": ""
             }
            },
            "type": "scatter3d"
           }
          ],
          "scattercarpet": [
           {
            "marker": {
             "colorbar": {
              "outlinewidth": 0,
              "ticks": ""
             }
            },
            "type": "scattercarpet"
           }
          ],
          "scattergeo": [
           {
            "marker": {
             "colorbar": {
              "outlinewidth": 0,
              "ticks": ""
             }
            },
            "type": "scattergeo"
           }
          ],
          "scattergl": [
           {
            "marker": {
             "colorbar": {
              "outlinewidth": 0,
              "ticks": ""
             }
            },
            "type": "scattergl"
           }
          ],
          "scattermapbox": [
           {
            "marker": {
             "colorbar": {
              "outlinewidth": 0,
              "ticks": ""
             }
            },
            "type": "scattermapbox"
           }
          ],
          "scatterpolar": [
           {
            "marker": {
             "colorbar": {
              "outlinewidth": 0,
              "ticks": ""
             }
            },
            "type": "scatterpolar"
           }
          ],
          "scatterpolargl": [
           {
            "marker": {
             "colorbar": {
              "outlinewidth": 0,
              "ticks": ""
             }
            },
            "type": "scatterpolargl"
           }
          ],
          "scatterternary": [
           {
            "marker": {
             "colorbar": {
              "outlinewidth": 0,
              "ticks": ""
             }
            },
            "type": "scatterternary"
           }
          ],
          "surface": [
           {
            "colorbar": {
             "outlinewidth": 0,
             "ticks": ""
            },
            "colorscale": [
             [
              0,
              "#0d0887"
             ],
             [
              0.1111111111111111,
              "#46039f"
             ],
             [
              0.2222222222222222,
              "#7201a8"
             ],
             [
              0.3333333333333333,
              "#9c179e"
             ],
             [
              0.4444444444444444,
              "#bd3786"
             ],
             [
              0.5555555555555556,
              "#d8576b"
             ],
             [
              0.6666666666666666,
              "#ed7953"
             ],
             [
              0.7777777777777778,
              "#fb9f3a"
             ],
             [
              0.8888888888888888,
              "#fdca26"
             ],
             [
              1,
              "#f0f921"
             ]
            ],
            "type": "surface"
           }
          ],
          "table": [
           {
            "cells": {
             "fill": {
              "color": "#EBF0F8"
             },
             "line": {
              "color": "white"
             }
            },
            "header": {
             "fill": {
              "color": "#C8D4E3"
             },
             "line": {
              "color": "white"
             }
            },
            "type": "table"
           }
          ]
         },
         "layout": {
          "annotationdefaults": {
           "arrowcolor": "#2a3f5f",
           "arrowhead": 0,
           "arrowwidth": 1
          },
          "autotypenumbers": "strict",
          "coloraxis": {
           "colorbar": {
            "outlinewidth": 0,
            "ticks": ""
           }
          },
          "colorscale": {
           "diverging": [
            [
             0,
             "#8e0152"
            ],
            [
             0.1,
             "#c51b7d"
            ],
            [
             0.2,
             "#de77ae"
            ],
            [
             0.3,
             "#f1b6da"
            ],
            [
             0.4,
             "#fde0ef"
            ],
            [
             0.5,
             "#f7f7f7"
            ],
            [
             0.6,
             "#e6f5d0"
            ],
            [
             0.7,
             "#b8e186"
            ],
            [
             0.8,
             "#7fbc41"
            ],
            [
             0.9,
             "#4d9221"
            ],
            [
             1,
             "#276419"
            ]
           ],
           "sequential": [
            [
             0,
             "#0d0887"
            ],
            [
             0.1111111111111111,
             "#46039f"
            ],
            [
             0.2222222222222222,
             "#7201a8"
            ],
            [
             0.3333333333333333,
             "#9c179e"
            ],
            [
             0.4444444444444444,
             "#bd3786"
            ],
            [
             0.5555555555555556,
             "#d8576b"
            ],
            [
             0.6666666666666666,
             "#ed7953"
            ],
            [
             0.7777777777777778,
             "#fb9f3a"
            ],
            [
             0.8888888888888888,
             "#fdca26"
            ],
            [
             1,
             "#f0f921"
            ]
           ],
           "sequentialminus": [
            [
             0,
             "#0d0887"
            ],
            [
             0.1111111111111111,
             "#46039f"
            ],
            [
             0.2222222222222222,
             "#7201a8"
            ],
            [
             0.3333333333333333,
             "#9c179e"
            ],
            [
             0.4444444444444444,
             "#bd3786"
            ],
            [
             0.5555555555555556,
             "#d8576b"
            ],
            [
             0.6666666666666666,
             "#ed7953"
            ],
            [
             0.7777777777777778,
             "#fb9f3a"
            ],
            [
             0.8888888888888888,
             "#fdca26"
            ],
            [
             1,
             "#f0f921"
            ]
           ]
          },
          "colorway": [
           "#636efa",
           "#EF553B",
           "#00cc96",
           "#ab63fa",
           "#FFA15A",
           "#19d3f3",
           "#FF6692",
           "#B6E880",
           "#FF97FF",
           "#FECB52"
          ],
          "font": {
           "color": "#2a3f5f"
          },
          "geo": {
           "bgcolor": "white",
           "lakecolor": "white",
           "landcolor": "#E5ECF6",
           "showlakes": true,
           "showland": true,
           "subunitcolor": "white"
          },
          "hoverlabel": {
           "align": "left"
          },
          "hovermode": "closest",
          "mapbox": {
           "style": "light"
          },
          "paper_bgcolor": "white",
          "plot_bgcolor": "#E5ECF6",
          "polar": {
           "angularaxis": {
            "gridcolor": "white",
            "linecolor": "white",
            "ticks": ""
           },
           "bgcolor": "#E5ECF6",
           "radialaxis": {
            "gridcolor": "white",
            "linecolor": "white",
            "ticks": ""
           }
          },
          "scene": {
           "xaxis": {
            "backgroundcolor": "#E5ECF6",
            "gridcolor": "white",
            "gridwidth": 2,
            "linecolor": "white",
            "showbackground": true,
            "ticks": "",
            "zerolinecolor": "white"
           },
           "yaxis": {
            "backgroundcolor": "#E5ECF6",
            "gridcolor": "white",
            "gridwidth": 2,
            "linecolor": "white",
            "showbackground": true,
            "ticks": "",
            "zerolinecolor": "white"
           },
           "zaxis": {
            "backgroundcolor": "#E5ECF6",
            "gridcolor": "white",
            "gridwidth": 2,
            "linecolor": "white",
            "showbackground": true,
            "ticks": "",
            "zerolinecolor": "white"
           }
          },
          "shapedefaults": {
           "line": {
            "color": "#2a3f5f"
           }
          },
          "ternary": {
           "aaxis": {
            "gridcolor": "white",
            "linecolor": "white",
            "ticks": ""
           },
           "baxis": {
            "gridcolor": "white",
            "linecolor": "white",
            "ticks": ""
           },
           "bgcolor": "#E5ECF6",
           "caxis": {
            "gridcolor": "white",
            "linecolor": "white",
            "ticks": ""
           }
          },
          "title": {
           "x": 0.05
          },
          "xaxis": {
           "automargin": true,
           "gridcolor": "white",
           "linecolor": "white",
           "ticks": "",
           "title": {
            "standoff": 15
           },
           "zerolinecolor": "white",
           "zerolinewidth": 2
          },
          "yaxis": {
           "automargin": true,
           "gridcolor": "white",
           "linecolor": "white",
           "ticks": "",
           "title": {
            "standoff": 15
           },
           "zerolinecolor": "white",
           "zerolinewidth": 2
          }
         }
        },
        "title": {
         "text": "Box Plot for Random Data"
        },
        "xaxis": {
         "anchor": "y",
         "domain": [
          0,
          1
         ],
         "title": {
          "text": "variable"
         }
        },
        "yaxis": {
         "anchor": "x",
         "domain": [
          0,
          1
         ],
         "title": {
          "text": "Y-axis"
         }
        }
       }
      }
     },
     "metadata": {},
     "output_type": "display_data"
    }
   ],
   "source": [
    "import plotly.express as px\n",
    "import numpy as np\n",
    "\n",
    "# Generate random data for the box plot\n",
    "data = np.random.normal(size=100)\n",
    "\n",
    "# Create a box plot with plotly.express\n",
    "fig = px.box(data, title='Box Plot for Random Data', labels={'value': 'Y-axis'})\n",
    "\n",
    "# Calculate statistics\n",
    "max_val = np.max(data)\n",
    "upper_fence = np.percentile(data, 75) + 1.5 * (np.percentile(data, 75) - np.percentile(data, 25))\n",
    "q3 = np.percentile(data, 75)\n",
    "median = np.median(data)\n",
    "q1 = np.percentile(data, 25)\n",
    "lower_fence = np.percentile(data, 25) - 1.5 * (np.percentile(data, 75) - np.percentile(data, 25))\n",
    "min_val = np.min(data)\n",
    "\n",
    "# Define a minimum distance between annotations\n",
    "min_distance = 0.5  # Adjust this value as needed\n",
    "\n",
    "# Add annotations with background color\n",
    "annotations = [\n",
    "    dict(x=1, y=max_val, xref='paper', yref='y', text=f'Max: {max_val}', showarrow=False, \n",
    "         bgcolor='rgba(0,0,255,0.2)', font=dict(color='black')),\n",
    "    dict(x=1, y=upper_fence, xref='paper', yref='y', text=f'Upper Fence: {upper_fence}', showarrow=False,\n",
    "         bgcolor='rgba(0,0,255,0.2)', font=dict(color='black')),\n",
    "    dict(x=1, y=q3, xref='paper', yref='y', text=f'Q3: {q3}', showarrow=False,\n",
    "         bgcolor='rgba(0,0,255,0.2)', font=dict(color='black')),\n",
    "    dict(x=1, y=median, xref='paper', yref='y', text=f'Median: {median}', showarrow=False,\n",
    "         bgcolor='rgba(0,0,255,0.2)', font=dict(color='black')),\n",
    "    dict(x=1, y=q1, xref='paper', yref='y', text=f'Q1: {q1}', showarrow=False,\n",
    "         bgcolor='rgba(0,0,255,0.2)', font=dict(color='black')),\n",
    "    dict(x=1, y=lower_fence, xref='paper', yref='y', text=f'Lower Fence: {lower_fence}', showarrow=False,\n",
    "         bgcolor='rgba(0,0,255,0.2)', font=dict(color='black')),\n",
    "    dict(x=1, y=min_val, xref='paper', yref='y', text=f'Min: {min_val}', showarrow=False,\n",
    "         bgcolor='rgba(0,0,255,0.2)', font=dict(color='black')),\n",
    "]\n",
    "\n",
    "# Adjust the y values based on the minimum distance\n",
    "for i in range(1, len(annotations)):\n",
    "    if annotations[i]['y'] - annotations[i-1]['y'] < min_distance:\n",
    "        annotations[i]['y'] = annotations[i-1]['y'] + min_distance\n",
    "\n",
    "fig.update_layout(annotations=annotations)\n",
    "\n",
    "# Show the plot\n",
    "fig.show()k"
   ]
  }
 ],
 "metadata": {
  "kernelspec": {
   "display_name": "Python 3",
   "language": "python",
   "name": "python3"
  },
  "language_info": {
   "codemirror_mode": {
    "name": "ipython",
    "version": 3
   },
   "file_extension": ".py",
   "mimetype": "text/x-python",
   "name": "python",
   "nbconvert_exporter": "python",
   "pygments_lexer": "ipython3",
   "version": "3.8.10"
  },
  "papermill": {
   "default_parameters": {},
   "duration": 367.335792,
   "end_time": "2023-10-05T23:48:29.100016",
   "environment_variables": {},
   "exception": null,
   "input_path": "__notebook__.ipynb",
   "output_path": "__notebook__.ipynb",
   "parameters": {},
   "start_time": "2023-10-05T23:42:21.764224",
   "version": "2.4.0"
  }
 },
 "nbformat": 4,
 "nbformat_minor": 5
}
