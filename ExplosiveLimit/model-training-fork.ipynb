{
 "cells": [
  {
   "cell_type": "code",
   "execution_count": 1,
   "id": "6d718287",
   "metadata": {
    "_cell_guid": "b1076dfc-b9ad-4769-8c92-a6c4dae69d19",
    "_uuid": "8f2839f25d086af736a60e9eeb907d3b93b6e0e5",
    "execution": {
     "iopub.execute_input": "2023-10-05T23:42:25.795957Z",
     "iopub.status.busy": "2023-10-05T23:42:25.795433Z",
     "iopub.status.idle": "2023-10-05T23:42:36.906001Z",
     "shell.execute_reply": "2023-10-05T23:42:36.904269Z"
    },
    "papermill": {
     "duration": 11.117447,
     "end_time": "2023-10-05T23:42:36.908796",
     "exception": false,
     "start_time": "2023-10-05T23:42:25.791349",
     "status": "completed"
    },
    "tags": []
   },
   "outputs": [
    {
     "name": "stdout",
     "output_type": "stream",
     "text": [
      "Imported Successfully\n"
     ]
    }
   ],
   "source": [
    "import os\n",
    "import cv2\n",
    "import numpy as np\n",
    "import tensorflow as tf\n",
    "import tensorflow.keras.backend as K\n",
    "from sklearn.model_selection import train_test_split\n",
    "from tensorflow.keras.applications import mobilenet_v2\n",
    "from tensorflow.keras.models import Sequential, load_model\n",
    "from tensorflow.keras.applications.resnet50 import ResNet50\n",
    "from tensorflow.keras.layers import Dense, GlobalAveragePooling2D, Flatten\n",
    "print(\"Imported Successfully\")\n",
    "\n",
    "# Function to load and preprocess images for training or validation\n",
    "def load_and_preprocess_images(folder_path, is_validation=False):\n",
    "    images, labels = [], []\n",
    "    label_keyword = \"positive\" if is_validation else \"\"\n",
    "    for image_file in tqdm(os.listdir(folder_path), desc=f\"Loading {folder_path}\"):\n",
    "        image = cv2.imread(os.path.join(folder_path, image_file))\n",
    "        image = cv2.resize(image, (64, 64))\n",
    "        image = np.stack([image, image, image], axis=2)\n",
    "        images.append(image)\n",
    "        if is_validation:\n",
    "            labels.append(True if \"positive\" in image_file else False)\n",
    "        else:\n",
    "            labels.append(int(image_file.split('_')[1].split('.')[0]))\n",
    "    return np.array(images, dtype=np.float32) / 255.0, np.array(labels)\n",
    "\n",
    "# Load train and validation data\n",
    "train_images, train_labels = load_and_preprocess_images('/kaggle/input/test-train-data/test_train_data')\n",
    "val_images, val_labels = load_and_preprocess_images('/kaggle/input/p-val-data/processed_validation_data', is_validation=True)\n",
    "\n",
    "# Preprocess the image data\n",
    "print(\"Pre-Processing...\")\n",
    "train_images = np.array(train_images, dtype=np.float32) / 255.0\n",
    "val_images = np.array(val_images, dtype=np.float32) / 255.0\n",
    "train_labels, val_labels = np.array(train_labels), np.array(val_labels)\n",
    "num_classes = 60000\n",
    "\n",
    "# Build the CNN model\n",
    "print(\"Building Model...\")\n",
    "model = Sequential()\n",
    "resnet50 = ResNet50(weights='imagenet', include_top=False, input_shape=(64, 64, 3))\n",
    "model.add(resnet50)\n",
    "model.add(Flatten())\n",
    "model.add(Dense(num_classes, activation='sigmoid'))\n",
    "print(\"Compiling in Progress...\")\n",
    "model.compile(loss='sparse_categorical_crossentropy', optimizer='adam', metrics=['accuracy'])\n",
    "print(model, \"\\nModel Built & Compiled\")"
   ]
  },
  {
   "cell_type": "code",
   "execution_count": null,
   "id": "6928efd7",
   "metadata": {},
   "outputs": [],
   "source": [
    "# Train the model\n",
    "print(\"Training in Progress...\")\n",
    "with tqdm(total=100) as pbar:\n",
    "  for epoch in range(100):\n",
    "    model.fit(train_images, train_labels, epochs=1, validation_data=(val_images, val_labels))\n",
    "    pbar.update(1)\n",
    "    \n",
    "# Save the trained model\n",
    "model.save('trained_model.h5')\n",
    "print(\"Trained Model Saved!\")"
   ]
  }
 ],
 "metadata": {
  "kernelspec": {
   "display_name": "Python 3",
   "language": "python",
   "name": "python3"
  },
  "language_info": {
   "codemirror_mode": {
    "name": "ipython",
    "version": 3
   },
   "file_extension": ".py",
   "mimetype": "text/x-python",
   "name": "python",
   "nbconvert_exporter": "python",
   "pygments_lexer": "ipython3",
   "version": "3.10.12"
  },
  "papermill": {
   "default_parameters": {},
   "duration": 367.335792,
   "end_time": "2023-10-05T23:48:29.100016",
   "environment_variables": {},
   "exception": null,
   "input_path": "__notebook__.ipynb",
   "output_path": "__notebook__.ipynb",
   "parameters": {},
   "start_time": "2023-10-05T23:42:21.764224",
   "version": "2.4.0"
  }
 },
 "nbformat": 4,
 "nbformat_minor": 5
}
