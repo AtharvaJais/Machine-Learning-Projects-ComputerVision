{
 "cells": [
  {
   "cell_type": "code",
   "execution_count": 5,
   "metadata": {},
   "outputs": [
    {
     "name": "stderr",
     "output_type": "stream",
     "text": [
      "Renaming images: 100%|██████████| 968/968 [00:00<00:00, 28672.93it/s]"
     ]
    },
    {
     "name": "stdout",
     "output_type": "stream",
     "text": [
      "\n",
      "Successfully renamed 968 images.\n"
     ]
    },
    {
     "name": "stderr",
     "output_type": "stream",
     "text": [
      "\n"
     ]
    }
   ],
   "source": [
    "import os\n",
    "from tqdm import tqdm\n",
    "\n",
    "def rename_images(source_folder, destination_folder, model_name=\"negative\"):\n",
    "    if not os.path.exists(destination_folder):\n",
    "        os.makedirs(destination_folder)\n",
    "    files = os.listdir(source_folder)\n",
    "    progress_bar = tqdm(total=len(files), desc=\"Renaming images\")\n",
    "\n",
    "    for index, old_name in enumerate(files, start=1):\n",
    "        new_name = f\"{model_name}_{index:02d}.jpg\"\n",
    "        old_path = os.path.join(source_folder, old_name)\n",
    "        new_path = os.path.join(destination_folder, new_name)\n",
    "        os.rename(old_path, new_path)\n",
    "        progress_bar.update(1)\n",
    "    progress_bar.close()\n",
    "    print(f\"\\nSuccessfully renamed {len(files)} images.\")\n",
    "\n",
    "if __name__ == \"__main__\":\n",
    "    # Set the source and destination folders\n",
    "    source_folder = \"/home/atharva/Documents/ComputerVision/ExplosiveLimit/archive\"\n",
    "    destination_folder = \"/home/atharva/Documents/ComputerVision/ExplosiveLimit/validation_data\"\n",
    "\n",
    "    # Call the function to rename and move the images\n",
    "    rename_images(source_folder, destination_folder)"
   ]
  },
  {
   "cell_type": "code",
   "execution_count": 6,
   "metadata": {},
   "outputs": [
    {
     "name": "stderr",
     "output_type": "stream",
     "text": [
      "Zipping files: 100%|██████████| 2968/2968 [00:01<00:00, 1934.55it/s]"
     ]
    },
    {
     "name": "stdout",
     "output_type": "stream",
     "text": [
      "Files zipped successfully to '/home/atharva/Documents/ComputerVision/ExplosiveLimit/validation_data.zip'.\n",
      "2968 Files Zipped\n"
     ]
    },
    {
     "name": "stderr",
     "output_type": "stream",
     "text": [
      "\n"
     ]
    }
   ],
   "source": [
    "import os\n",
    "import zipfile\n",
    "import random\n",
    "from tqdm import tqdm\n",
    "\n",
    "def random_zip_files(source_folder, destination_folder, num_files_to_zip, zip_filename=\"validation_data\"):\n",
    "    if not os.path.exists(destination_folder):\n",
    "        os.makedirs(destination_folder)\n",
    "    all_files = os.listdir(source_folder)\n",
    "    files_to_zip = random.sample(all_files, num_files_to_zip)\n",
    "    zip_path = os.path.join(destination_folder, f\"{zip_filename}.zip\")\n",
    "    with tqdm(total=num_files_to_zip, desc=\"Zipping files\") as pbar:\n",
    "        with zipfile.ZipFile(zip_path, 'w') as zipf:\n",
    "            for source_file in files_to_zip:\n",
    "                source_path = os.path.join(source_folder, source_file)\n",
    "                zipf.write(source_path, arcname=source_file)\n",
    "                pbar.update(1)\n",
    "    print(f\"Files zipped successfully to '{zip_path}'.\")\n",
    "\n",
    "if __name__ == \"__main__\":\n",
    "    source_folder = \"/home/atharva/Documents/ComputerVision/ExplosiveLimit/validation_data\"\n",
    "    destination_folder = \"/home/atharva/Documents/ComputerVision/ExplosiveLimit\"\n",
    "    num_files_to_zip = int(input(\"Number of Files to Zip:\\n\"))\n",
    "    random_zip_files(source_folder, destination_folder, num_files_to_zip)\n",
    "    print(f\"{num_files_to_zip} Files Zipped\")\n"
   ]
  }
 ],
 "metadata": {
  "kernelspec": {
   "display_name": "Python 3",
   "language": "python",
   "name": "python3"
  },
  "language_info": {
   "codemirror_mode": {
    "name": "ipython",
    "version": 3
   },
   "file_extension": ".py",
   "mimetype": "text/x-python",
   "name": "python",
   "nbconvert_exporter": "python",
   "pygments_lexer": "ipython3",
   "version": "3.8.10"
  },
  "orig_nbformat": 4
 },
 "nbformat": 4,
 "nbformat_minor": 2
}
